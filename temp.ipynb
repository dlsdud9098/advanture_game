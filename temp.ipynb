{
 "cells": [
  {
   "cell_type": "code",
   "execution_count": 1,
   "id": "8c581f1e",
   "metadata": {},
   "outputs": [],
   "source": [
    "import json"
   ]
  },
  {
   "cell_type": "code",
   "execution_count": 2,
   "id": "594762f6",
   "metadata": {},
   "outputs": [],
   "source": [
    "data = {\n",
    "    \"idx\": 1,\n",
    "    \"name\": \"test\",\n",
    "    \"lv\": 1,\n",
    "    \"hp\": 100,\n",
    "    \"mp\": 100,\n",
    "    \"STR\": 10,\n",
    "    \"AGI\": 10,\n",
    "    \"INT\": 10,\n",
    "    \"LUCK\": 10\n",
    "}\n",
    "\n",
    "with open('test.json', 'w') as f:\n",
    "    json.dump(data, f)"
   ]
  },
  {
   "cell_type": "code",
   "execution_count": 3,
   "id": "3c0da693",
   "metadata": {},
   "outputs": [
    {
     "data": {
      "text/plain": [
       "[{'mp': 350,\n",
       "  'hp': 1100,\n",
       "  'attack_score': 60,\n",
       "  'defense_score': 10,\n",
       "  'skills': [],\n",
       "  'inventory': [],\n",
       "  'use_items': [],\n",
       "  'unit_type': 'Player',\n",
       "  'money': 1000,\n",
       "  'STR': 20,\n",
       "  'AGI': 13,\n",
       "  'INT': 15,\n",
       "  'LUCK': 5,\n",
       "  'AVOID': 0.5,\n",
       "  'experience': 0,\n",
       "  'skillpoint': 0,\n",
       "  'LV': 1,\n",
       "  'honor': 0,\n",
       "  'CLASS': '전사',\n",
       "  'name': 'apic'},\n",
       " {'mp': 350,\n",
       "  'hp': 1100,\n",
       "  'attack_score': 60,\n",
       "  'defense_score': 10,\n",
       "  'skills': [],\n",
       "  'inventory': [],\n",
       "  'use_items': [],\n",
       "  'unit_type': 'Player',\n",
       "  'money': 1000,\n",
       "  'STR': 20,\n",
       "  'AGI': 13,\n",
       "  'INT': 15,\n",
       "  'LUCK': 5,\n",
       "  'AVOID': 0.5,\n",
       "  'experience': 0,\n",
       "  'skillpoint': 0,\n",
       "  'LV': 1,\n",
       "  'honor': 0,\n",
       "  'CLASS': '전사',\n",
       "  'name': 'apic'}]"
      ]
     },
     "execution_count": 3,
     "metadata": {},
     "output_type": "execute_result"
    }
   ],
   "source": [
    "import json\n",
    "with open('saves/datas/saves.json', 'r', encoding='utf-8') as f:\n",
    "    player_datas = json.load(f)\n",
    "player_datas"
   ]
  },
  {
   "cell_type": "code",
   "execution_count": 8,
   "id": "f0e331fe",
   "metadata": {},
   "outputs": [
    {
     "data": {
      "text/plain": [
       "{'zxc124asdfadf123': {'mp': 350,\n",
       "  'hp': 1100,\n",
       "  'attack_score': 60,\n",
       "  'defense_score': 10,\n",
       "  'AVOID': 0.5,\n",
       "  'skills': [],\n",
       "  'inventory': ['철 검', '철 갑옷', '하급 회복 물약'],\n",
       "  'wear_armor': {'투구': '비어있음',\n",
       "   '목걸이': '비어있음',\n",
       "   '반지': ['비어있음', '비어있음'],\n",
       "   '갑옷': '비어있음',\n",
       "   '바지': '비어있음',\n",
       "   '신발': '비어있음',\n",
       "   '무기': '비어있음',\n",
       "   '가방': '비어있음'},\n",
       "  'max_inventory': 10,\n",
       "  'money': 1000,\n",
       "  'STR': 20,\n",
       "  'AGI': 13,\n",
       "  'INT': 15,\n",
       "  'LUCK': 5,\n",
       "  'experience': 0,\n",
       "  'skillpoint': 0,\n",
       "  'honor': 0,\n",
       "  'name': 'zxc124asdfadf123',\n",
       "  'LV': 1,\n",
       "  'CLASS': '전사',\n",
       "  'unit_type': 'Player'}}"
      ]
     },
     "execution_count": 8,
     "metadata": {},
     "output_type": "execute_result"
    }
   ],
   "source": [
    "import pickle\n",
    "\n",
    "with open(\"./saves/datas/saves.bin\", \"rb\") as f:\n",
    "    a = pickle.load(f)\n",
    "\n",
    "a\n"
   ]
  },
  {
   "cell_type": "code",
   "execution_count": 4,
   "id": "5f03ebca",
   "metadata": {},
   "outputs": [],
   "source": [
    "from unit.item import Item\n",
    "\n",
    "data = {\n",
    "    \"name\": \"미스릴 검\",\n",
    "    \"description\": \"미스릴로 만든 검이다.\",\n",
    "    \"required_class\": [\"all\"],\n",
    "    \"required_stat\": {},\n",
    "    \"hp\": 0,\n",
    "    \"mp\": 0,\n",
    "    \"attack\": 1000,\n",
    "    \"defense\": 0,\n",
    "    \"stat\": {\"STR\": 10},\n",
    "    \"drop\": 0,\n",
    "    \"type\": \"무기\",\n",
    "}\n",
    "\n",
    "item = Item()\n",
    "item.AddItem(data)\n"
   ]
  },
  {
   "cell_type": "code",
   "execution_count": 2,
   "id": "567721d3",
   "metadata": {},
   "outputs": [],
   "source": [
    "from unit.item import Item\n",
    "\n",
    "item = Item()\n",
    "item.DeleteItem(\"철 반지\")\n"
   ]
  },
  {
   "cell_type": "code",
   "execution_count": null,
   "id": "62905aa2",
   "metadata": {},
   "outputs": [
    {
     "data": {
      "text/plain": [
       "{'철 검': {'name': '철 검',\n",
       "  'description': '강철로 만든 철 검이다.',\n",
       "  'required_class': ['warrior'],\n",
       "  'required_stat': {'STR': 0, 'AGI': 0, 'INT': 0, 'LUCK': 0},\n",
       "  'hp': 0,\n",
       "  'mp': 0,\n",
       "  'attack': 50,\n",
       "  'defense': 0,\n",
       "  'stat': {'STR': 15, 'AGI': 0, 'INT': 0, 'LUCK': 0},\n",
       "  'drop': 0,\n",
       "  'type': '무기'},\n",
       " '철 갑옷': {'name': '철 갑옷',\n",
       "  'description': '강철로 만든 철 갑옷이다.',\n",
       "  'required_class': ['warrior'],\n",
       "  'required_stat': {'STR': 0, 'AGI': 0, 'INT': 0, 'LUCK': 0},\n",
       "  'hp': 0,\n",
       "  'mp': 0,\n",
       "  'attack': 0,\n",
       "  'defense': 50,\n",
       "  'stat': {'STR': 20, 'AGI': 0, 'INT': 0, 'LUCK': 0},\n",
       "  'drop': 0,\n",
       "  'type': '갑옷'},\n",
       " '하급 회복 물약': {'name': '하급 회복 물약',\n",
       "  'description': '체력을 약간 회복해 주는 물약이다.',\n",
       "  'required_class': ['all'],\n",
       "  'required_stat': {'STR': 0, 'AGI': 0, 'INT': 0, 'LUCK': 0},\n",
       "  'hp': 0,\n",
       "  'mp': 0,\n",
       "  'attack': 0,\n",
       "  'defense': 0,\n",
       "  'stat': {'STR': 0, 'AGI': 0, 'INT': 0, 'LUCK': 0},\n",
       "  'drop': 0,\n",
       "  'type': '소모품'}}"
      ]
     },
     "execution_count": 1,
     "metadata": {},
     "output_type": "execute_result"
    }
   ],
   "source": [
    "import pickle\n",
    "\n",
    "with open(\"./saves/datas/itemDB.item\", \"rb\") as f:\n",
    "    a = pickle.load(f)\n",
    "\n",
    "a\n"
   ]
  },
  {
   "cell_type": "code",
   "execution_count": 5,
   "id": "4c8cecb1",
   "metadata": {},
   "outputs": [
    {
     "data": {
      "text/plain": [
       "{'하급 회복 물약': {'name': '하급 회복 물약',\n",
       "  'description': '체력을 약간 회복해 주는 물약이다.',\n",
       "  'required_class': ['all'],\n",
       "  'required_stat': {},\n",
       "  'hp': 0,\n",
       "  'mp': 0,\n",
       "  'attack': 0,\n",
       "  'defense': 0,\n",
       "  'stat': {},\n",
       "  'drop': 0,\n",
       "  'type': '소모품'},\n",
       " '철 검': {'name': '철 검',\n",
       "  'description': '강철로 만든 철 검이다.',\n",
       "  'required_class': ['warrior'],\n",
       "  'required_stat': {'STR': 5},\n",
       "  'hp': 0,\n",
       "  'mp': 0,\n",
       "  'attack': 50,\n",
       "  'defense': 0,\n",
       "  'stat': {'STR': 15},\n",
       "  'drop': 0,\n",
       "  'type': '무기'},\n",
       " '철 갑옷': {'name': '철 갑옷',\n",
       "  'description': '강철로 만든 철 갑옷이다.',\n",
       "  'required_class': ['warrior'],\n",
       "  'required_stat': {'STR': 7},\n",
       "  'hp': 0,\n",
       "  'mp': 0,\n",
       "  'attack': 0,\n",
       "  'defense': 50,\n",
       "  'stat': {'STR': 20},\n",
       "  'drop': 0,\n",
       "  'type': '갑옷'},\n",
       " '철 반지': {'name': '철 반지',\n",
       "  'description': '강철로 만든 반지다.',\n",
       "  'required_class': ['all'],\n",
       "  'required_stat': {},\n",
       "  'hp': 0,\n",
       "  'mp': 0,\n",
       "  'attack': 0,\n",
       "  'defense': 0,\n",
       "  'stat': {'STR': 5},\n",
       "  'drop': 0,\n",
       "  'type': '반지'},\n",
       " '미스릴 검': {'name': '미스릴 검',\n",
       "  'description': '미스릴로 만든 검이다.',\n",
       "  'required_class': ['all'],\n",
       "  'required_stat': {},\n",
       "  'hp': 0,\n",
       "  'mp': 0,\n",
       "  'attack': 1000,\n",
       "  'defense': 0,\n",
       "  'stat': {'STR': 10},\n",
       "  'drop': 0,\n",
       "  'type': '무기'}}"
      ]
     },
     "execution_count": 5,
     "metadata": {},
     "output_type": "execute_result"
    }
   ],
   "source": [
    "import pickle\n",
    "\n",
    "with open(\"./saves/datas/itemDB.item\", \"rb\") as f:\n",
    "    a = pickle.load(f)\n",
    "a\n"
   ]
  },
  {
   "cell_type": "code",
   "execution_count": 1,
   "id": "f23a7b19",
   "metadata": {},
   "outputs": [
    {
     "data": {
      "text/plain": [
       "[{'href': 'http:/0'},\n",
       " {'href': 'http:/1'},\n",
       " {'href': 'http:/2'},\n",
       " {'href': 'http:/3'},\n",
       " {'href': 'http:/4'},\n",
       " {'href': 'http:/5'},\n",
       " {'href': 'http:/6'},\n",
       " {'href': 'http:/7'},\n",
       " {'href': 'http:/8'},\n",
       " {'href': 'http:/9'}]"
      ]
     },
     "execution_count": 1,
     "metadata": {},
     "output_type": "execute_result"
    }
   ],
   "source": [
    "temp = []\n",
    "for i in range(10):\n",
    "    temp.append({\"href\": f\"http:/{i}\"})\n",
    "temp\n"
   ]
  },
  {
   "cell_type": "code",
   "execution_count": 7,
   "id": "7ace1060",
   "metadata": {},
   "outputs": [
    {
     "name": "stdout",
     "output_type": "stream",
     "text": [
      "0\n"
     ]
    }
   ],
   "source": [
    "import os\n",
    "\n",
    "# os.getcwd()\n",
    "print(os.system(\"tree\"))\n"
   ]
  },
  {
   "cell_type": "code",
   "execution_count": null,
   "id": "cae675ed",
   "metadata": {},
   "outputs": [],
   "source": []
  }
 ],
 "metadata": {
  "kernelspec": {
   "display_name": "base",
   "language": "python",
   "name": "python3"
  },
  "language_info": {
   "codemirror_mode": {
    "name": "ipython",
    "version": 3
   },
   "file_extension": ".py",
   "mimetype": "text/x-python",
   "name": "python",
   "nbconvert_exporter": "python",
   "pygments_lexer": "ipython3",
   "version": "3.12.7"
  }
 },
 "nbformat": 4,
 "nbformat_minor": 5
}
