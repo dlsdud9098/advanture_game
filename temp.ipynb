{
 "cells": [
  {
   "cell_type": "code",
   "execution_count": 1,
   "id": "8c581f1e",
   "metadata": {},
   "outputs": [],
   "source": [
    "import json"
   ]
  },
  {
   "cell_type": "code",
   "execution_count": 2,
   "id": "594762f6",
   "metadata": {},
   "outputs": [],
   "source": [
    "data = {\n",
    "    \"idx\": 1,\n",
    "    \"name\": \"test\",\n",
    "    \"lv\": 1,\n",
    "    \"hp\": 100,\n",
    "    \"mp\": 100,\n",
    "    \"STR\": 10,\n",
    "    \"AGI\": 10,\n",
    "    \"INT\": 10,\n",
    "    \"LUCK\": 10\n",
    "}\n",
    "\n",
    "with open('test.json', 'w') as f:\n",
    "    json.dump(data, f)"
   ]
  },
  {
   "cell_type": "code",
   "execution_count": null,
   "id": "3c0da693",
   "metadata": {},
   "outputs": [],
   "source": []
  }
 ],
 "metadata": {
  "kernelspec": {
   "display_name": ".venv",
   "language": "python",
   "name": "python3"
  },
  "language_info": {
   "codemirror_mode": {
    "name": "ipython",
    "version": 3
   },
   "file_extension": ".py",
   "mimetype": "text/x-python",
   "name": "python",
   "nbconvert_exporter": "python",
   "pygments_lexer": "ipython3",
   "version": "3.11.12"
  }
 },
 "nbformat": 4,
 "nbformat_minor": 5
}
