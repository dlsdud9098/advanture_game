{
 "cells": [
  {
   "cell_type": "code",
   "execution_count": 1,
   "id": "8c581f1e",
   "metadata": {},
   "outputs": [],
   "source": [
    "import json"
   ]
  },
  {
   "cell_type": "code",
   "execution_count": 2,
   "id": "594762f6",
   "metadata": {},
   "outputs": [],
   "source": [
    "data = {\n",
    "    \"idx\": 1,\n",
    "    \"name\": \"test\",\n",
    "    \"lv\": 1,\n",
    "    \"hp\": 100,\n",
    "    \"mp\": 100,\n",
    "    \"STR\": 10,\n",
    "    \"AGI\": 10,\n",
    "    \"INT\": 10,\n",
    "    \"LUCK\": 10\n",
    "}\n",
    "\n",
    "with open('test.json', 'w') as f:\n",
    "    json.dump(data, f)"
   ]
  },
  {
   "cell_type": "code",
   "execution_count": 3,
   "id": "3c0da693",
   "metadata": {},
   "outputs": [
    {
     "data": {
      "text/plain": [
       "[{'mp': 350,\n",
       "  'hp': 1100,\n",
       "  'attack_score': 60,\n",
       "  'defense_score': 10,\n",
       "  'skills': [],\n",
       "  'inventory': [],\n",
       "  'use_items': [],\n",
       "  'unit_type': 'Player',\n",
       "  'money': 1000,\n",
       "  'STR': 20,\n",
       "  'AGI': 13,\n",
       "  'INT': 15,\n",
       "  'LUCK': 5,\n",
       "  'AVOID': 0.5,\n",
       "  'experience': 0,\n",
       "  'skillpoint': 0,\n",
       "  'LV': 1,\n",
       "  'honor': 0,\n",
       "  'CLASS': '전사',\n",
       "  'name': 'apic'},\n",
       " {'mp': 350,\n",
       "  'hp': 1100,\n",
       "  'attack_score': 60,\n",
       "  'defense_score': 10,\n",
       "  'skills': [],\n",
       "  'inventory': [],\n",
       "  'use_items': [],\n",
       "  'unit_type': 'Player',\n",
       "  'money': 1000,\n",
       "  'STR': 20,\n",
       "  'AGI': 13,\n",
       "  'INT': 15,\n",
       "  'LUCK': 5,\n",
       "  'AVOID': 0.5,\n",
       "  'experience': 0,\n",
       "  'skillpoint': 0,\n",
       "  'LV': 1,\n",
       "  'honor': 0,\n",
       "  'CLASS': '전사',\n",
       "  'name': 'apic'}]"
      ]
     },
     "execution_count": 3,
     "metadata": {},
     "output_type": "execute_result"
    }
   ],
   "source": [
    "import json\n",
    "with open('saves/datas/saves.json', 'r', encoding='utf-8') as f:\n",
    "    player_datas = json.load(f)\n",
    "player_datas"
   ]
  },
  {
   "cell_type": "code",
   "execution_count": 2,
   "id": "f0e331fe",
   "metadata": {},
   "outputs": [
    {
     "data": {
      "text/plain": [
       "{'1234': {'mp': 350,\n",
       "  'hp': 1100,\n",
       "  'attack_score': 60,\n",
       "  'defense_score': 10,\n",
       "  'skills': [],\n",
       "  'inventory': ['철 검'],\n",
       "  'unit_type': 'Player',\n",
       "  'user_armor': [],\n",
       "  'money': 1000,\n",
       "  'STR': 20,\n",
       "  'AGI': 13,\n",
       "  'INT': 15,\n",
       "  'LUCK': 5,\n",
       "  'AVOID': 0.5,\n",
       "  'experience': 0,\n",
       "  'skillpoint': 0,\n",
       "  'LV': 1,\n",
       "  'honor': 0,\n",
       "  'CLASS': '전사',\n",
       "  'name': '1234',\n",
       "  'max_inventory': 10},\n",
       " '11111': {'mp': 350,\n",
       "  'hp': 1100,\n",
       "  'attack_score': 60,\n",
       "  'defense_score': 10,\n",
       "  'skills': [],\n",
       "  'inventory': ['철 검'],\n",
       "  'unit_type': 'Player',\n",
       "  'user_armor': [],\n",
       "  'money': 1000,\n",
       "  'STR': 20,\n",
       "  'AGI': 13,\n",
       "  'INT': 15,\n",
       "  'LUCK': 5,\n",
       "  'AVOID': 0.5,\n",
       "  'experience': 0,\n",
       "  'skillpoint': 0,\n",
       "  'LV': 1,\n",
       "  'honor': 0,\n",
       "  'CLASS': '전사',\n",
       "  'name': '11111',\n",
       "  'max_inventory': 10}}"
      ]
     },
     "execution_count": 2,
     "metadata": {},
     "output_type": "execute_result"
    }
   ],
   "source": [
    "import pickle\n",
    "\n",
    "with open('./saves/datas/saves.bin', 'rb') as f:\n",
    "    a = pickle.load(f)\n",
    "    \n",
    "a"
   ]
  },
  {
   "cell_type": "code",
   "execution_count": 2,
   "id": "5f03ebca",
   "metadata": {},
   "outputs": [],
   "source": [
    "from unit.item2 import Item\n",
    "\n",
    "data = {\n",
    "    'name' : '철 검', \n",
    "    'description' : '튼튼한 철 검이다.',\n",
    "    'required_class' : ['warrior'],\n",
    "    'required_stat' : {\n",
    "                \"STR\": 0,\n",
    "                \"AGI\": 0,\n",
    "                \"INI\": 0,\n",
    "                \"LUCK\": 0\n",
    "            },\n",
    "    'attack' : 50, \n",
    "    'defense' : None, \n",
    "    'stat' : {\n",
    "                \"STR\": 15,\n",
    "                \"AGI\": 0,\n",
    "                \"INT\": 0,\n",
    "                \"LUCK\": 0\n",
    "            }, \n",
    "    'drop' : 0,\n",
    "    'type': 'weapon'\n",
    "}\n",
    "\n",
    "item = Item()\n",
    "item.AddItem(data)"
   ]
  },
  {
   "cell_type": "code",
   "execution_count": null,
   "id": "62905aa2",
   "metadata": {},
   "outputs": [],
   "source": []
  }
 ],
 "metadata": {
  "kernelspec": {
   "display_name": ".venv",
   "language": "python",
   "name": "python3"
  },
  "language_info": {
   "codemirror_mode": {
    "name": "ipython",
    "version": 3
   },
   "file_extension": ".py",
   "mimetype": "text/x-python",
   "name": "python",
   "nbconvert_exporter": "python",
   "pygments_lexer": "ipython3",
   "version": "3.11.12"
  }
 },
 "nbformat": 4,
 "nbformat_minor": 5
}
