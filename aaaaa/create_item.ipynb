{
 "cells": [
  {
   "cell_type": "code",
   "execution_count": 1,
   "id": "f3265766",
   "metadata": {},
   "outputs": [],
   "source": [
    "\n",
    "from unit.item import Item\n",
    "item = Item()\n",
    "\n",
    "description = \"단단한 철 검이다.\"\n",
    "stat = [{\n",
    "    \"STR\": 0,\n",
    "    \"AGI\": 0,\n",
    "    \"INI\": 0,\n",
    "    \"LUCK\": 0\n",
    "}]\n",
    "required_class = ['전사']\n",
    "required_stat = [{\"STR\": 15, \"AGI\": 0, \"INT\": 0, \"LUCK\": 0}]\n",
    "attack_score = 50\n",
    "defense_score = 0\n",
    "drop = 0\n",
    "type = '무기'\n",
    "for i in range(5):\n",
    "    name = f\"철 검{i}\"\n",
    "\n",
    "    item_data = {}\n",
    "    item_data[name] = {\n",
    "        \"name\": name,\n",
    "        \"description\": description,\n",
    "        \n",
    "        \"stat\": stat,\n",
    "        \"required_class\": required_class,\n",
    "        \"required_stat\": required_stat,\n",
    "        \n",
    "        \"attack_score\": attack_score,\n",
    "        \"defense_score\": defense_score,\n",
    "        \"drop\": drop,\n",
    "        \"type\": type\n",
    "    }\n",
    "\n",
    "    item.AddItem(item_data[name])\n",
    "pass"
   ]
  },
  {
   "cell_type": "code",
   "execution_count": 1,
   "id": "2937391c",
   "metadata": {},
   "outputs": [
    {
     "name": "stdout",
     "output_type": "stream",
     "text": [
      "{'name': '철 검2', 'description': '단단한 철 검이다.', 'stat': [{'STR': 0, 'AGI': 0, 'INI': 0, 'LUCK': 0}], 'required_class': ['전사'], 'required_stat': [{'STR': 15, 'AGI': 0, 'INT': 0, 'LUCK': 0}], 'attack_score': 50, 'defense_score': 0, 'drop': 0}\n",
      "아이템 이름       철 검2\n",
      "설명              단단한 철 검이다.\n",
      "스텟              STR 0\n",
      "                  AGI 0\n",
      "                  INI 0\n",
      "                  LUCK 0\n",
      "착용 가능 클래스  전사\n",
      "요구 스텟         STR 15\n",
      "                  AGI 0\n",
      "                  INT 0\n",
      "                  LUCK 0\n",
      "공격력            50\n",
      "방어력            0\n",
      "드랍확률          0\n"
     ]
    }
   ],
   "source": [
    "from unit.item import Item\n",
    "item = Item()\n",
    "item.ItemDisplayOne('철 검2')"
   ]
  },
  {
   "cell_type": "code",
   "execution_count": null,
   "id": "91497f84",
   "metadata": {},
   "outputs": [],
   "source": []
  }
 ],
 "metadata": {
  "kernelspec": {
   "display_name": ".venv",
   "language": "python",
   "name": "python3"
  },
  "language_info": {
   "codemirror_mode": {
    "name": "ipython",
    "version": 3
   },
   "file_extension": ".py",
   "mimetype": "text/x-python",
   "name": "python",
   "nbconvert_exporter": "python",
   "pygments_lexer": "ipython3",
   "version": "3.11.12"
  }
 },
 "nbformat": 4,
 "nbformat_minor": 5
}
