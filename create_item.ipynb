{
 "cells": [
  {
   "cell_type": "code",
   "execution_count": 1,
   "id": "f3265766",
   "metadata": {},
   "outputs": [],
   "source": [
    "from unit.item import Item\n",
    "item = Item()\n",
    "    \n",
    "name = \"철 검\"\n",
    "description = \"단단한 철 검이다.\"\n",
    "stat = {\n",
    "    \"STR\": 0,\n",
    "    \"AGI\": 0,\n",
    "    \"INI\": 0,\n",
    "    \"LUCK\": 0\n",
    "}\n",
    "required_class = ['전사']\n",
    "required_stat = {\"STR\": 15, \"AGI\": 0, \"INT\": 0}\n",
    "attack_score = 50\n",
    "defense_score = 0\n",
    "drop = 0\n",
    "\n",
    "data = {\n",
    "    \"name\": name,\n",
    "    \"description\": description,\n",
    "    \n",
    "    \"stat\": stat,\n",
    "    \"required_class\": required_class,\n",
    "    \"required_stat\": required_stat,\n",
    "    \n",
    "    \"attack_score\": attack_score,\n",
    "    \"defense_score\": defense_score,\n",
    "    \"drop\": drop\n",
    "}\n",
    "\n",
    "item.AddItem(data)\n",
    "pass"
   ]
  },
  {
   "cell_type": "code",
   "execution_count": 2,
   "id": "2937391c",
   "metadata": {},
   "outputs": [
    {
     "name": "stdout",
     "output_type": "stream",
     "text": [
      "아이템 이름\t철 검\n",
      "설명\t단단한 철 검이다.\n",
      "스텟\t{'STR': 0, 'AGI': 0, 'INI': 0, 'LUCK': 0}\n",
      "착용 가능 클래스\t['전사']\n",
      "요구 스텟\t{'STR': 15, 'AGI': 0, 'INT': 0}\n",
      "공격력\t50\n",
      "방어력\t0\n",
      "드랍확률\t0\n"
     ]
    }
   ],
   "source": [
    "from unit.item import Item\n",
    "item = Item()\n",
    "item.ItemDisplayOne('철 검')"
   ]
  },
  {
   "cell_type": "code",
   "execution_count": null,
   "id": "91497f84",
   "metadata": {},
   "outputs": [],
   "source": []
  }
 ],
 "metadata": {
  "kernelspec": {
   "display_name": ".venv",
   "language": "python",
   "name": "python3"
  },
  "language_info": {
   "codemirror_mode": {
    "name": "ipython",
    "version": 3
   },
   "file_extension": ".py",
   "mimetype": "text/x-python",
   "name": "python",
   "nbconvert_exporter": "python",
   "pygments_lexer": "ipython3",
   "version": "3.11.12"
  }
 },
 "nbformat": 4,
 "nbformat_minor": 5
}
