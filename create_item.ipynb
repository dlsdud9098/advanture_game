{
 "cells": [
  {
   "cell_type": "code",
   "execution_count": 2,
   "id": "f3265766",
   "metadata": {},
   "outputs": [
    {
     "name": "stdout",
     "output_type": "stream",
     "text": [
      "[]\n"
     ]
    }
   ],
   "source": [
    "from unit.item import Item\n",
    "item = Item()\n",
    "    \n",
    "name = \"철 검\"\n",
    "description = \"단단한 철 검이다.\"\n",
    "stat = [{\n",
    "    \"STR\": 0,\n",
    "    \"AGI\": 0,\n",
    "    \"INI\": 0,\n",
    "    \"LUCK\": 0\n",
    "}]\n",
    "required_class = ['전사']\n",
    "required_stat = [{\"STR\": 15, \"AGI\": 0, \"INT\": 0}]\n",
    "attack_score = 50\n",
    "defense_score = 0\n",
    "\n",
    "data = {\n",
    "    \"name\": name,\n",
    "    \"description\": description,\n",
    "    \n",
    "    \"stat\": stat,\n",
    "    \"required_class\": required_class,\n",
    "    \"required_stat\": required_stat,\n",
    "    \n",
    "    \"attack_score\": attack_score,\n",
    "    \"defense_score\": defense_score\n",
    "}\n",
    "\n",
    "item.AddItem(data)\n",
    "pass"
   ]
  },
  {
   "cell_type": "code",
   "execution_count": 3,
   "id": "2937391c",
   "metadata": {},
   "outputs": [
    {
     "ename": "TypeError",
     "evalue": "'module' object is not callable",
     "output_type": "error",
     "traceback": [
      "\u001b[31m---------------------------------------------------------------------------\u001b[39m",
      "\u001b[31mTypeError\u001b[39m                                 Traceback (most recent call last)",
      "\u001b[36mCell\u001b[39m\u001b[36m \u001b[39m\u001b[32mIn[3]\u001b[39m\u001b[32m, line 1\u001b[39m\n\u001b[32m----> \u001b[39m\u001b[32m1\u001b[39m \u001b[43mitem\u001b[49m\u001b[43m.\u001b[49m\u001b[43mItemDisplay\u001b[49m\u001b[43m(\u001b[49m\u001b[43m)\u001b[49m\n",
      "\u001b[36mFile \u001b[39m\u001b[32m~/python/advanture_game/unit/item.py:70\u001b[39m, in \u001b[36mItem.ItemDisplay\u001b[39m\u001b[34m(self)\u001b[39m\n\u001b[32m     67\u001b[39m     item_df.iloc[idx+\u001b[32m1\u001b[39m, \u001b[32m0\u001b[39m] = value\n\u001b[32m     69\u001b[39m item_df.fillna(\u001b[33m'\u001b[39m\u001b[33m'\u001b[39m, inplace=\u001b[38;5;28;01mTrue\u001b[39;00m)\n\u001b[32m---> \u001b[39m\u001b[32m70\u001b[39m \u001b[38;5;28mprint\u001b[39m(\u001b[43mtabulate\u001b[49m\u001b[43m(\u001b[49m\u001b[43mitem_df\u001b[49m\u001b[43m,\u001b[49m\u001b[43m \u001b[49m\u001b[43mtablefmt\u001b[49m\u001b[43m=\u001b[49m\u001b[33;43m'\u001b[39;49m\u001b[33;43mplain\u001b[39;49m\u001b[33;43m'\u001b[39;49m\u001b[43m,\u001b[49m\u001b[43m \u001b[49m\u001b[43mshowindex\u001b[49m\u001b[43m=\u001b[49m\u001b[38;5;28;43;01mFalse\u001b[39;49;00m\u001b[43m,\u001b[49m\u001b[43m \u001b[49m\u001b[43mheaders\u001b[49m\u001b[43m=\u001b[49m\u001b[43m[\u001b[49m\u001b[43m]\u001b[49m\u001b[43m)\u001b[49m, \u001b[33m'\u001b[39m\u001b[38;5;130;01m\\n\u001b[39;00m\u001b[33m'\u001b[39m)\n",
      "\u001b[31mTypeError\u001b[39m: 'module' object is not callable"
     ]
    }
   ],
   "source": [
    "item.ItemDisplay()"
   ]
  }
 ],
 "metadata": {
  "kernelspec": {
   "display_name": ".venv",
   "language": "python",
   "name": "python3"
  },
  "language_info": {
   "codemirror_mode": {
    "name": "ipython",
    "version": 3
   },
   "file_extension": ".py",
   "mimetype": "text/x-python",
   "name": "python",
   "nbconvert_exporter": "python",
   "pygments_lexer": "ipython3",
   "version": "3.11.12"
  }
 },
 "nbformat": 4,
 "nbformat_minor": 5
}
